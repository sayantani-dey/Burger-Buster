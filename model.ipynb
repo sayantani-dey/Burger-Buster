{
 "cells": [
  {
   "cell_type": "code",
   "execution_count": 1,
   "metadata": {},
   "outputs": [
    {
     "name": "stdout",
     "output_type": "stream",
     "text": [
      "WARNING:tensorflow:From D:\\Anaconda\\Lib\\site-packages\\keras\\src\\losses.py:2976: The name tf.losses.sparse_softmax_cross_entropy is deprecated. Please use tf.compat.v1.losses.sparse_softmax_cross_entropy instead.\n",
      "\n"
     ]
    }
   ],
   "source": [
    "from keras.preprocessing.image import ImageDataGenerator\n",
    "from keras.models import Sequential\n",
    "from keras.layers import Conv2D, MaxPooling2D, Flatten, Dense, Dropout\n",
    "import math\n",
    "import os"
   ]
  },
  {
   "cell_type": "code",
   "execution_count": 2,
   "metadata": {},
   "outputs": [],
   "source": [
    "# Define class names and labels\n",
    "class_names = ['healthy', 'unhealthy']\n",
    "class_labels = {class_name: idx for idx, class_name in enumerate(class_names)}\n"
   ]
  },
  {
   "cell_type": "code",
   "execution_count": 7,
   "metadata": {},
   "outputs": [
    {
     "name": "stdout",
     "output_type": "stream",
     "text": [
      "Found 40 images belonging to 2 classes.\n",
      "Found 40 images belonging to 2 classes in the training set.\n",
      "Found 0 images belonging to 2 classes.\n",
      "No images found in the validation set. Please check the 'C:/Users/SAYANTANI DEY/Desktop/work/Self Tasks/VSC notebook/Food Classification/Food images/Val' directory.\n",
      "Found 0 images belonging to 2 classes.\n",
      "No images found in the test set. Please check the 'C:/Users/SAYANTANI DEY/Desktop/work/Self Tasks/VSC notebook/Food Classification/Food images/Test' directory.\n"
     ]
    }
   ],
   "source": [
    "# Data Preprocessing\n",
    "train_datagen = ImageDataGenerator(\n",
    "    rescale=1./255,\n",
    "    shear_range=0.2,\n",
    "    zoom_range=0.2,\n",
    "    horizontal_flip=True)\n",
    "\n",
    "test_datagen = ImageDataGenerator(rescale=1./255)\n",
    "\n",
    "train_generator = train_datagen.flow_from_directory(\n",
    "    'C:/Users/SAYANTANI DEY/Desktop/work/Self Tasks/VSC notebook/Food Classification/Food images/Train',\n",
    "    target_size=(224, 224),\n",
    "    batch_size=32,\n",
    "    class_mode='categorical',\n",
    "    classes=class_names)\n",
    "\n",
    "print(f\"Found {train_generator.samples} images belonging to {len(class_names)} classes in the training set.\")\n",
    "\n",
    "val_generator = test_datagen.flow_from_directory(\n",
    "    'C:/Users/SAYANTANI DEY/Desktop/work/Self Tasks/VSC notebook/Food Classification/Food images/Val',\n",
    "    target_size=(224, 224),\n",
    "    batch_size=32,\n",
    "    class_mode='categorical',\n",
    "    classes=class_names,\n",
    "    subset='validation')\n",
    "\n",
    "if val_generator.samples == 0:\n",
    "    print(\"No images found in the validation set. Please check the 'C:/Users/SAYANTANI DEY/Desktop/work/Self Tasks/VSC notebook/Food Classification/Food images/Val' directory.\")\n",
    "else:\n",
    "    print(f\"Found {val_generator.samples} images belonging to {len(class_names)} classes in the validation set.\")\n",
    "\n",
    "test_generator = test_datagen.flow_from_directory(\n",
    "    'C:/Users/SAYANTANI DEY/Desktop/work/Self Tasks/VSC notebook/Food Classification/Food images/Test',\n",
    "    target_size=(224, 224),\n",
    "    batch_size=32,\n",
    "    class_mode='categorical',\n",
    "    classes=class_names)\n",
    "\n",
    "if test_generator.samples == 0:\n",
    "    print(\"No images found in the test set. Please check the 'C:/Users/SAYANTANI DEY/Desktop/work/Self Tasks/VSC notebook/Food Classification/Food images/Test' directory.\")\n",
    "else:\n",
    "    print(f\"Found {test_generator.samples} images in the test set.\")"
   ]
  },
  {
   "cell_type": "code",
   "execution_count": null,
   "metadata": {},
   "outputs": [],
   "source": []
  }
 ],
 "metadata": {
  "kernelspec": {
   "display_name": "Python 3 (ipykernel)",
   "language": "python",
   "name": "python3"
  },
  "language_info": {
   "codemirror_mode": {
    "name": "ipython",
    "version": 3
   },
   "file_extension": ".py",
   "mimetype": "text/x-python",
   "name": "python",
   "nbconvert_exporter": "python",
   "pygments_lexer": "ipython3",
   "version": "3.11.4"
  }
 },
 "nbformat": 4,
 "nbformat_minor": 2
}
